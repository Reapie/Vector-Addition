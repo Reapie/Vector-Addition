{
 "cells": [
  {
   "cell_type": "code",
   "execution_count": 1,
   "metadata": {},
   "outputs": [],
   "source": [
    "import math\n",
    "from ipywidgets import IntSlider, HBox, VBox\n",
    "import bqplot.pyplot as plt"
   ]
  },
  {
   "cell_type": "code",
   "execution_count": 2,
   "metadata": {},
   "outputs": [
    {
     "data": {
      "text/plain": [
       "LinearScale(max=7.5, min=-7.5)"
      ]
     },
     "execution_count": 2,
     "metadata": {},
     "output_type": "execute_result"
    }
   ],
   "source": [
    "graph = plt.figure(title='Vector Addition')\n",
    "plt.scatter([0], [0], c='gray')\n",
    "plt.xlim(-7.5, 7.5)\n",
    "plt.ylim(-7.5, 7.5)"
   ]
  },
  {
   "cell_type": "code",
   "execution_count": 3,
   "metadata": {},
   "outputs": [],
   "source": [
    "v1_angle = IntSlider(description='Angle 1', value=45, min=0, max=359)\n",
    "v1_len = IntSlider(description='Length 1', value=1, min=1, max=5)\n",
    "\n",
    "v2_angle = IntSlider(description='Angle 2', value=90, min=0, max=359)\n",
    "v2_len = IntSlider(description='Length 2', value=2, min=1, max=5)\n",
    "\n",
    "slider_layout = HBox([VBox([v1_angle, v1_len]), VBox([v2_angle, v2_len])])"
   ]
  },
  {
   "cell_type": "code",
   "execution_count": 4,
   "metadata": {
    "scrolled": false
   },
   "outputs": [
    {
     "data": {
      "application/vnd.jupyter.widget-view+json": {
       "model_id": "2074698b5ce94dacbf4be71ed65b258d",
       "version_major": 2,
       "version_minor": 0
      },
      "text/plain": [
       "VBox(children=(Figure(axes=[Axis(scale=LinearScale(max=7.5, min=-7.5)), Axis(orientation='vertical', scale=Lin…"
      ]
     },
     "metadata": {},
     "output_type": "display_data"
    }
   ],
   "source": [
    "def getEnd(angle, length):\n",
    "    endx = length * math.cos(math.radians(angle))\n",
    "    endy = length * math.sin(math.radians(angle))\n",
    "    return endx, endy\n",
    "\n",
    "x1, y1 = getEnd(v1_angle.value, v1_len.value)\n",
    "x2, y2 = getEnd(v2_angle.value, v2_len.value)\n",
    "v1 = plt.plot([0, x1], [0, y1], c='red')\n",
    "v2 = plt.plot([0, x2], [0, y2], c='blue')\n",
    "v3 = plt.plot([0, x1 + x2], [0, y1 + y2], c='green')\n",
    "\n",
    "def update(change):\n",
    "    x1, y1 = getEnd(v1_angle.value, v1_len.value)\n",
    "    x2, y2 = getEnd(v2_angle.value, v2_len.value)\n",
    "    \n",
    "    v1.x = [0, x1]\n",
    "    v1.y = [0, y1]\n",
    "    v2.x = [0, x2]\n",
    "    v2.y = [0, y2]\n",
    "    v3.x = [0, x1 + x2]\n",
    "    v3.y = [0, y1 + y2]\n",
    "    \n",
    "for slider in [v1_angle, v1_len, v2_angle, v2_len]:\n",
    "        slider.observe(update, 'value')\n",
    "\n",
    "final_layout = VBox([graph, slider_layout])\n",
    "final_layout"
   ]
  },
  {
   "cell_type": "code",
   "execution_count": null,
   "metadata": {},
   "outputs": [],
   "source": []
  }
 ],
 "metadata": {
  "kernelspec": {
   "display_name": "Python 3",
   "language": "python",
   "name": "python3"
  },
  "language_info": {
   "codemirror_mode": {
    "name": "ipython",
    "version": 3
   },
   "file_extension": ".py",
   "mimetype": "text/x-python",
   "name": "python",
   "nbconvert_exporter": "python",
   "pygments_lexer": "ipython3",
   "version": "3.8.3"
  }
 },
 "nbformat": 4,
 "nbformat_minor": 4
}
